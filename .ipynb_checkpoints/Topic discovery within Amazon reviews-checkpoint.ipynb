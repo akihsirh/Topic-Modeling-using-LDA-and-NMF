{
 "cells": [
  {
   "cell_type": "code",
   "execution_count": 1,
   "metadata": {},
   "outputs": [],
   "source": [
    "import pandas as pd\n",
    "import numpy as np\n",
    "import sklearn\n",
    "from sklearn.feature_extraction.text import CountVectorizer\n",
    "from sklearn.feature_extraction import stop_words"
   ]
  },
  {
   "cell_type": "markdown",
   "metadata": {},
   "source": [
    "### 1.1 Load the data"
   ]
  },
  {
   "cell_type": "code",
   "execution_count": 2,
   "metadata": {},
   "outputs": [
    {
     "data": {
      "text/html": [
       "<div>\n",
       "<style scoped>\n",
       "    .dataframe tbody tr th:only-of-type {\n",
       "        vertical-align: middle;\n",
       "    }\n",
       "\n",
       "    .dataframe tbody tr th {\n",
       "        vertical-align: top;\n",
       "    }\n",
       "\n",
       "    .dataframe thead th {\n",
       "        text-align: right;\n",
       "    }\n",
       "</style>\n",
       "<table border=\"1\" class=\"dataframe\">\n",
       "  <thead>\n",
       "    <tr style=\"text-align: right;\">\n",
       "      <th></th>\n",
       "      <th>date</th>\n",
       "      <th>summary</th>\n",
       "      <th>review</th>\n",
       "      <th>rating</th>\n",
       "    </tr>\n",
       "  </thead>\n",
       "  <tbody>\n",
       "    <tr>\n",
       "      <td>188381</td>\n",
       "      <td>2015-08-24</td>\n",
       "      <td>Another great product from Baxter; superb hand...</td>\n",
       "      <td>I have very dry hands and just spent 2 weeks i...</td>\n",
       "      <td>5</td>\n",
       "    </tr>\n",
       "    <tr>\n",
       "      <td>141672</td>\n",
       "      <td>2014-03-17</td>\n",
       "      <td>Good for babies who don't like bottles!</td>\n",
       "      <td>I purchased these nipples for my 3 month old w...</td>\n",
       "      <td>4</td>\n",
       "    </tr>\n",
       "    <tr>\n",
       "      <td>130527</td>\n",
       "      <td>2014-06-29</td>\n",
       "      <td>Great to keep stroller brand new!</td>\n",
       "      <td>Love it! Now I can keep the stroller in great ...</td>\n",
       "      <td>5</td>\n",
       "    </tr>\n",
       "    <tr>\n",
       "      <td>52227</td>\n",
       "      <td>2011-02-05</td>\n",
       "      <td>Ok but doesn't stick to the tray</td>\n",
       "      <td>The bowl works good to catch dropped food but ...</td>\n",
       "      <td>2</td>\n",
       "    </tr>\n",
       "    <tr>\n",
       "      <td>93422</td>\n",
       "      <td>2013-02-20</td>\n",
       "      <td>Not perfect, but usable</td>\n",
       "      <td>The fabric is soft, but really thin.  One of t...</td>\n",
       "      <td>4</td>\n",
       "    </tr>\n",
       "  </tbody>\n",
       "</table>\n",
       "</div>"
      ],
      "text/plain": [
       "              date                                            summary  \\\n",
       "188381  2015-08-24  Another great product from Baxter; superb hand...   \n",
       "141672  2014-03-17            Good for babies who don't like bottles!   \n",
       "130527  2014-06-29                  Great to keep stroller brand new!   \n",
       "52227   2011-02-05                   Ok but doesn't stick to the tray   \n",
       "93422   2013-02-20                            Not perfect, but usable   \n",
       "\n",
       "                                                   review  rating  \n",
       "188381  I have very dry hands and just spent 2 weeks i...       5  \n",
       "141672  I purchased these nipples for my 3 month old w...       4  \n",
       "130527  Love it! Now I can keep the stroller in great ...       5  \n",
       "52227   The bowl works good to catch dropped food but ...       2  \n",
       "93422   The fabric is soft, but really thin.  One of t...       4  "
      ]
     },
     "execution_count": 2,
     "metadata": {},
     "output_type": "execute_result"
    }
   ],
   "source": [
    "# Load data\n",
    "amreviews = pd.read_csv(\"amazon-reviews.csv.bz2\", sep='\\t')\n",
    "#Viewing the data\n",
    "amreviews.sample(5)"
   ]
  },
  {
   "cell_type": "code",
   "execution_count": 3,
   "metadata": {},
   "outputs": [
    {
     "data": {
      "text/plain": [
       "(205331, 4)"
      ]
     },
     "execution_count": 3,
     "metadata": {},
     "output_type": "execute_result"
    }
   ],
   "source": [
    "# view dimensions\n",
    "amreviews.shape"
   ]
  },
  {
   "cell_type": "markdown",
   "metadata": {},
   "source": [
    "### 1.2 Remove missing and empty observations for review and rating"
   ]
  },
  {
   "cell_type": "code",
   "execution_count": 4,
   "metadata": {},
   "outputs": [
    {
     "data": {
      "text/plain": [
       "80"
      ]
     },
     "execution_count": 4,
     "metadata": {},
     "output_type": "execute_result"
    }
   ],
   "source": [
    "#Check for na values\n",
    "amreviews.review.isna().sum()"
   ]
  },
  {
   "cell_type": "code",
   "execution_count": 5,
   "metadata": {},
   "outputs": [],
   "source": [
    "#drop na \n",
    "amreviews_mod = amreviews.drop(amreviews[amreviews.review.isna()].index).reset_index()"
   ]
  },
  {
   "cell_type": "code",
   "execution_count": 6,
   "metadata": {},
   "outputs": [
    {
     "data": {
      "text/html": [
       "<div>\n",
       "<style scoped>\n",
       "    .dataframe tbody tr th:only-of-type {\n",
       "        vertical-align: middle;\n",
       "    }\n",
       "\n",
       "    .dataframe tbody tr th {\n",
       "        vertical-align: top;\n",
       "    }\n",
       "\n",
       "    .dataframe thead th {\n",
       "        text-align: right;\n",
       "    }\n",
       "</style>\n",
       "<table border=\"1\" class=\"dataframe\">\n",
       "  <thead>\n",
       "    <tr style=\"text-align: right;\">\n",
       "      <th></th>\n",
       "      <th>index</th>\n",
       "      <th>date</th>\n",
       "      <th>summary</th>\n",
       "      <th>review</th>\n",
       "      <th>rating</th>\n",
       "    </tr>\n",
       "  </thead>\n",
       "  <tbody>\n",
       "    <tr>\n",
       "      <td>63752</td>\n",
       "      <td>63779</td>\n",
       "      <td>2013-12-02</td>\n",
       "      <td>My son loves it, I love it but be warned for t...</td>\n",
       "      <td>I wish I could give more stars than 3, my son ...</td>\n",
       "      <td>3</td>\n",
       "    </tr>\n",
       "    <tr>\n",
       "      <td>84637</td>\n",
       "      <td>84671</td>\n",
       "      <td>2013-12-09</td>\n",
       "      <td>super soft</td>\n",
       "      <td>I absolutely love these blankets!!! They are s...</td>\n",
       "      <td>5</td>\n",
       "    </tr>\n",
       "    <tr>\n",
       "      <td>142369</td>\n",
       "      <td>142423</td>\n",
       "      <td>2013-08-12</td>\n",
       "      <td>Wonderful car seat</td>\n",
       "      <td>My little girl was not a fan of her infant car...</td>\n",
       "      <td>5</td>\n",
       "    </tr>\n",
       "  </tbody>\n",
       "</table>\n",
       "</div>"
      ],
      "text/plain": [
       "         index        date                                            summary  \\\n",
       "63752    63779  2013-12-02  My son loves it, I love it but be warned for t...   \n",
       "84637    84671  2013-12-09                                         super soft   \n",
       "142369  142423  2013-08-12                                 Wonderful car seat   \n",
       "\n",
       "                                                   review  rating  \n",
       "63752   I wish I could give more stars than 3, my son ...       3  \n",
       "84637   I absolutely love these blankets!!! They are s...       5  \n",
       "142369  My little girl was not a fan of her infant car...       5  "
      ]
     },
     "execution_count": 6,
     "metadata": {},
     "output_type": "execute_result"
    }
   ],
   "source": [
    "#Check data\n",
    "amreviews_mod.sample(3)"
   ]
  },
  {
   "cell_type": "code",
   "execution_count": 7,
   "metadata": {},
   "outputs": [],
   "source": [
    "# drop previous index column\n",
    "amreviews_mod.drop('index', axis = 1, inplace= True)"
   ]
  },
  {
   "cell_type": "code",
   "execution_count": 8,
   "metadata": {},
   "outputs": [
    {
     "data": {
      "text/plain": [
       "(array([], dtype=int64),)"
      ]
     },
     "execution_count": 8,
     "metadata": {},
     "output_type": "execute_result"
    }
   ],
   "source": [
    "#Check for empty strings \n",
    "np.where(amreviews.review.apply(lambda x: x == ''))"
   ]
  },
  {
   "cell_type": "code",
   "execution_count": 9,
   "metadata": {},
   "outputs": [
    {
     "data": {
      "text/plain": [
       "5    120434\n",
       "4     42916\n",
       "3     21911\n",
       "2     10939\n",
       "1      9131\n",
       "Name: rating, dtype: int64"
      ]
     },
     "execution_count": 9,
     "metadata": {},
     "output_type": "execute_result"
    }
   ],
   "source": [
    "#Check for value counts for rating\n",
    "amreviews.rating.value_counts(dropna=False)"
   ]
  },
  {
   "cell_type": "markdown",
   "metadata": {},
   "source": [
    "There are no missing values/empty values for review and rating in the sample."
   ]
  },
  {
   "cell_type": "markdown",
   "metadata": {},
   "source": [
    "### Topic modeling using LDA (Latent Dirichlet Allocation) and Count Vectorizer"
   ]
  },
  {
   "cell_type": "code",
   "execution_count": 42,
   "metadata": {},
   "outputs": [],
   "source": [
    "# convert in BOW\n",
    "vectorizer = CountVectorizer(max_df=0.95, min_df=2, stop_words=stop_words.ENGLISH_STOP_WORDS, binary=True)\n",
    "cv_X = vectorizer.fit_transform(amreviews_mod.review.values)"
   ]
  },
  {
   "cell_type": "code",
   "execution_count": 43,
   "metadata": {},
   "outputs": [],
   "source": [
    "from sklearn.decomposition import LatentDirichletAllocation"
   ]
  },
  {
   "cell_type": "code",
   "execution_count": 44,
   "metadata": {},
   "outputs": [
    {
     "data": {
      "text/plain": [
       "LatentDirichletAllocation(batch_size=128, doc_topic_prior=None,\n",
       "                          evaluate_every=-1, learning_decay=0.7,\n",
       "                          learning_method='batch', learning_offset=10.0,\n",
       "                          max_doc_update_iter=100, max_iter=10,\n",
       "                          mean_change_tol=0.001, n_components=8, n_jobs=None,\n",
       "                          perp_tol=0.1, random_state=4321,\n",
       "                          topic_word_prior=None, total_samples=1000000.0,\n",
       "                          verbose=0)"
      ]
     },
     "execution_count": 44,
     "metadata": {},
     "output_type": "execute_result"
    }
   ],
   "source": [
    "#Initialize LDA with number of topics and random seed\n",
    "LDA = LatentDirichletAllocation(n_components=8, random_state= 4321)\n",
    "LDA.fit(cv_X)"
   ]
  },
  {
   "cell_type": "markdown",
   "metadata": {},
   "source": [
    "From what I understood the number of components are the number of topics you think the dataset contains. This initial estimate of number of topics will be informed by domain knowledge or other business related insights that you have. \n",
    "\n",
    "In my case, a previous assignment showed decent results when we selected the number of clusters as 15 (again another unsupervised learning exercise)"
   ]
  },
  {
   "cell_type": "code",
   "execution_count": 45,
   "metadata": {},
   "outputs": [],
   "source": [
    "# Get vocabulary of words\n",
    "lda_all_words = vectorizer.get_feature_names()"
   ]
  },
  {
   "cell_type": "code",
   "execution_count": 46,
   "metadata": {},
   "outputs": [
    {
     "name": "stdout",
     "output_type": "stream",
     "text": [
      "['zoomed', 'zooming', 'zooms', 'zoon', 'zooper', 'zoos', 'zorb', 'zoya', 'zoyas', 'zt', 'zucchini', 'zuccini', 'zulily', 'zurich', 'zutano', 'zwilling', 'zz', 'zzz', 'zzzipme', 'zzzz']\n"
     ]
    }
   ],
   "source": [
    "#show sample\n",
    "print(lda_all_words[-20:])"
   ]
  },
  {
   "cell_type": "code",
   "execution_count": 47,
   "metadata": {},
   "outputs": [
    {
     "name": "stdout",
     "output_type": "stream",
     "text": [
      "Words for Topic 1\n",
      "['time', 'nail', 'looking', 'price', 'polish', 'use', 'perfect', 'pretty', 'beautiful', 'light', 'pink', 'little', 'quality', 'just', 'really', 'look', 'colors', 'good', 'product', 'looks', 'nice', 'great', 'like', 'love', 'color']\n",
      "\n",
      "Words for Topic 2\n",
      "['using', 'make', 'gate', 'nice', 'quality', 'used', 'need', 've', 'open', 'better', 'sound', 'really', 'little', 'does', 'easy', 'don', 'work', 'price', 'works', 'guitar', 'like', 'use', 'just', 'good', 'great']\n",
      "\n",
      "Words for Topic 3\n",
      "['easily', 'doesn', 'water', 'using', 'bought', 'time', 'good', 'cups', 'son', 'cup', 'old', 'really', 'food', 'don', 'diaper', 'bag', 'little', 'love', 'baby', 'like', 'just', 'clean', 'easy', 'great', 'use']\n",
      "\n",
      "Words for Topic 4\n",
      "['recommend', 'good', 'likes', 'easy', 'use', 'got', 'play', 'cute', 'bought', 'time', 'really', 'love', 'toys', 'month', 'like', 'toy', 'daughter', 'just', 'great', 'months', 'little', 'son', 'loves', 'old', 'baby']\n",
      "\n",
      "Words for Topic 5\n",
      "['milk', 'better', 'pump', 'good', 'wash', 'months', 'size', 'bought', 'fit', 'work', 'little', 'using', 'really', 'love', 'soft', 'used', 'time', 'don', 'bottle', 'great', 'like', 'bottles', 'just', 'use', 'baby']\n",
      "\n",
      "Words for Topic 6\n",
      "['light', 'months', 'sound', 'love', 'little', 'used', 'price', 'bought', 'monitor', 'bed', 'don', 'good', 'really', 'product', 'mattress', 'room', 'time', 'sleep', 'like', 'use', 'night', 'great', 'just', 'crib', 'baby']\n",
      "\n",
      "Words for Topic 7\n",
      "['sensitive', 'time', 'long', 've', 'little', 'great', 'hair', 'feel', 'smell', 'dry', 'cream', 'don', 'just', 'scent', 'products', 'used', 'really', 'good', 'does', 'face', 'using', 'like', 'use', 'product', 'skin']\n",
      "\n",
      "Words for Topic 8\n",
      "['old', 'good', 'small', 'child', 'doesn', 'way', 'used', 'easily', 'fits', 'don', 'straps', 'little', 'comfortable', 'really', 'love', 'fit', 'great', 'just', 'like', 'use', 'baby', 'stroller', 'easy', 'car', 'seat']\n",
      "\n"
     ]
    }
   ],
   "source": [
    "#Get topics and words (top 15)\n",
    "for tpno, topic in enumerate(LDA.components_):\n",
    "    print(\"Words for Topic\", tpno+1)\n",
    "    print([lda_all_words[index] for index in topic.argsort()[-25:]])\n",
    "    print()"
   ]
  },
  {
   "cell_type": "code",
   "execution_count": 48,
   "metadata": {},
   "outputs": [],
   "source": [
    "#Find which topic review belongs to\n",
    "topic_prediction = LDA.transform(cv_X)"
   ]
  },
  {
   "cell_type": "code",
   "execution_count": 49,
   "metadata": {},
   "outputs": [],
   "source": [
    "#Add topic number to review dataset\n",
    "amreviews_mod['topic'] = topic_prediction.argmax(axis=1) + 1"
   ]
  },
  {
   "cell_type": "code",
   "execution_count": 50,
   "metadata": {},
   "outputs": [
    {
     "data": {
      "text/html": [
       "<div>\n",
       "<style scoped>\n",
       "    .dataframe tbody tr th:only-of-type {\n",
       "        vertical-align: middle;\n",
       "    }\n",
       "\n",
       "    .dataframe tbody tr th {\n",
       "        vertical-align: top;\n",
       "    }\n",
       "\n",
       "    .dataframe thead th {\n",
       "        text-align: right;\n",
       "    }\n",
       "</style>\n",
       "<table border=\"1\" class=\"dataframe\">\n",
       "  <thead>\n",
       "    <tr style=\"text-align: right;\">\n",
       "      <th></th>\n",
       "      <th>date</th>\n",
       "      <th>summary</th>\n",
       "      <th>review</th>\n",
       "      <th>rating</th>\n",
       "    </tr>\n",
       "  </thead>\n",
       "  <tbody>\n",
       "    <tr>\n",
       "      <td>101573</td>\n",
       "      <td>2013-05-28</td>\n",
       "      <td>a good mattress for the price</td>\n",
       "      <td>This obviously isn't a luxury mattress, but it...</td>\n",
       "      <td>4</td>\n",
       "    </tr>\n",
       "    <tr>\n",
       "      <td>184632</td>\n",
       "      <td>2016-01-23</td>\n",
       "      <td>Very Good Results</td>\n",
       "      <td>I've used a prescription retinol that irritate...</td>\n",
       "      <td>5</td>\n",
       "    </tr>\n",
       "    <tr>\n",
       "      <td>125492</td>\n",
       "      <td>2013-11-11</td>\n",
       "      <td>Good Deal</td>\n",
       "      <td>Great to keep in diaper bag. Never have the ba...</td>\n",
       "      <td>5</td>\n",
       "    </tr>\n",
       "    <tr>\n",
       "      <td>111606</td>\n",
       "      <td>2014-04-01</td>\n",
       "      <td>Works Great</td>\n",
       "      <td>My son says that this seat is comfortable and ...</td>\n",
       "      <td>5</td>\n",
       "    </tr>\n",
       "    <tr>\n",
       "      <td>79381</td>\n",
       "      <td>2013-10-03</td>\n",
       "      <td>Good</td>\n",
       "      <td>Works good for intended purpose. Sometimes I d...</td>\n",
       "      <td>4</td>\n",
       "    </tr>\n",
       "    <tr>\n",
       "      <td>136987</td>\n",
       "      <td>2013-10-18</td>\n",
       "      <td>Purple = \"Boy Cup\"?</td>\n",
       "      <td>Apparently I missed the memo and purple is now...</td>\n",
       "      <td>1</td>\n",
       "    </tr>\n",
       "    <tr>\n",
       "      <td>152584</td>\n",
       "      <td>2014-04-26</td>\n",
       "      <td>Cures standing-in-crib-bawling-at-midnight</td>\n",
       "      <td>All I can say is that I wish someone had told ...</td>\n",
       "      <td>5</td>\n",
       "    </tr>\n",
       "    <tr>\n",
       "      <td>187345</td>\n",
       "      <td>2016-02-19</td>\n",
       "      <td>Impossible combination skin TAMED!</td>\n",
       "      <td>I am a 48-year-old woman who has combination s...</td>\n",
       "      <td>5</td>\n",
       "    </tr>\n",
       "    <tr>\n",
       "      <td>95523</td>\n",
       "      <td>2013-10-23</td>\n",
       "      <td>CROTCH DANGLER: DAMAGING to your baby's SPINE!</td>\n",
       "      <td>i received this as a hand me down, it was in g...</td>\n",
       "      <td>1</td>\n",
       "    </tr>\n",
       "    <tr>\n",
       "      <td>123841</td>\n",
       "      <td>2013-02-08</td>\n",
       "      <td>Great for all types of bottles!</td>\n",
       "      <td>Being pickle-minded, I've all brands of baby b...</td>\n",
       "      <td>5</td>\n",
       "    </tr>\n",
       "  </tbody>\n",
       "</table>\n",
       "</div>"
      ],
      "text/plain": [
       "              date                                         summary  \\\n",
       "101573  2013-05-28                   a good mattress for the price   \n",
       "184632  2016-01-23                               Very Good Results   \n",
       "125492  2013-11-11                                       Good Deal   \n",
       "111606  2014-04-01                                     Works Great   \n",
       "79381   2013-10-03                                            Good   \n",
       "136987  2013-10-18                             Purple = \"Boy Cup\"?   \n",
       "152584  2014-04-26      Cures standing-in-crib-bawling-at-midnight   \n",
       "187345  2016-02-19              Impossible combination skin TAMED!   \n",
       "95523   2013-10-23  CROTCH DANGLER: DAMAGING to your baby's SPINE!   \n",
       "123841  2013-02-08                 Great for all types of bottles!   \n",
       "\n",
       "                                                   review  rating  \n",
       "101573  This obviously isn't a luxury mattress, but it...       4  \n",
       "184632  I've used a prescription retinol that irritate...       5  \n",
       "125492  Great to keep in diaper bag. Never have the ba...       5  \n",
       "111606  My son says that this seat is comfortable and ...       5  \n",
       "79381   Works good for intended purpose. Sometimes I d...       4  \n",
       "136987  Apparently I missed the memo and purple is now...       1  \n",
       "152584  All I can say is that I wish someone had told ...       5  \n",
       "187345  I am a 48-year-old woman who has combination s...       5  \n",
       "95523   i received this as a hand me down, it was in g...       1  \n",
       "123841  Being pickle-minded, I've all brands of baby b...       5  "
      ]
     },
     "execution_count": 50,
     "metadata": {},
     "output_type": "execute_result"
    }
   ],
   "source": [
    "amreviews.sample(10)"
   ]
  },
  {
   "cell_type": "markdown",
   "metadata": {},
   "source": [
    "### Topic Modeling with Non Negative Matrix Factorization and TF-IDF"
   ]
  },
  {
   "cell_type": "markdown",
   "metadata": {},
   "source": [
    "NMF - https://mlexplained.com/2017/12/28/a-practical-introduction-to-nmf-nonnegative-matrix-factorization/"
   ]
  },
  {
   "cell_type": "code",
   "execution_count": 51,
   "metadata": {},
   "outputs": [],
   "source": [
    "from sklearn.feature_extraction.text import TfidfVectorizer\n",
    "\n",
    "tfidf_vectorizer = TfidfVectorizer(max_df=0.95, min_df=2, stop_words=stop_words.ENGLISH_STOP_WORDS)\n",
    "tdf_X = tfidf_vectorizer.fit_transform(amreviews_mod.review.values)"
   ]
  },
  {
   "cell_type": "code",
   "execution_count": 52,
   "metadata": {},
   "outputs": [
    {
     "data": {
      "text/plain": [
       "NMF(alpha=0.0, beta_loss='frobenius', init=None, l1_ratio=0.0, max_iter=200,\n",
       "    n_components=8, random_state=4321, shuffle=False, solver='cd', tol=0.0001,\n",
       "    verbose=0)"
      ]
     },
     "execution_count": 52,
     "metadata": {},
     "output_type": "execute_result"
    }
   ],
   "source": [
    "from sklearn.decomposition import NMF\n",
    "\n",
    "model = NMF(n_components=8,random_state=4321)\n",
    "model.fit(tdf_X)"
   ]
  },
  {
   "cell_type": "code",
   "execution_count": 53,
   "metadata": {},
   "outputs": [
    {
     "name": "stdout",
     "output_type": "stream",
     "text": [
      "['zombie', 'zombies', 'zone', 'zones', 'zonk', 'zonks', 'zoo', 'zoo18m', 'zooley', 'zoom', 'zoomed', 'zooming', 'zooms', 'zoon', 'zooper', 'zoos', 'zorb', 'zoya', 'zoyas', 'zt', 'zucchini', 'zuccini', 'zulily', 'zurich', 'zutano', 'zwilling', 'zz', 'zzz', 'zzzipme', 'zzzz']\n"
     ]
    }
   ],
   "source": [
    "# Get vocabulary of words\n",
    "tdf_all_words = tfidf_vectorizer.get_feature_names()\n",
    "print(tdf_all_words[-30:])"
   ]
  },
  {
   "cell_type": "code",
   "execution_count": 54,
   "metadata": {},
   "outputs": [
    {
     "name": "stdout",
     "output_type": "stream",
     "text": [
      "Words for Topic 1\n",
      "['good', 'sleep', '34', 'cute', 'soft', 'got', 'easy', 'use', 'play', 'toys', 'crib', 'time', 'month', 'bought', 'really', 'daughter', 'like', 'toy', 'just', 'little', 'son', 'months', 'loves', 'old', 'baby']\n",
      "\n",
      "Words for Topic 2\n",
      "['fits', 'strap', 'son', 'easily', 'tray', 'potty', 'carseat', 'use', 'fit', 'comfortable', 'base', 'rear', 'booster', 'infant', 'install', 'child', 'chair', 'facing', 'straps', 'britax', 'seats', 'easy', 'stroller', 'car', 'seat']\n",
      "\n",
      "Words for Topic 3\n",
      "['darker', 'goes', 'bright', 'good', 'dark', 'neutral', 'blue', 'light', 'favorite', 'coat', 'colors', 'like', 'perfect', 'looks', 'summer', 'nails', 'coats', 'pink', 'nail', 'pretty', 'essie', 'nice', 'beautiful', 'polish', 'color']\n",
      "\n",
      "Words for Topic 4\n",
      "['ve', 'makeup', 'feels', 'smell', 'just', 'used', 'nice', 'don', 'sensitive', 'feel', 'soap', 'using', 'dry', 'products', 'does', 'really', 'scent', 'cream', 'use', 'hair', 'face', 'like', 'good', 'product', 'skin']\n",
      "\n",
      "Words for Topic 5\n",
      "['formula', 'just', 'brown', 'flow', 'easy', 'leak', 'work', 'brush', 'water', 'sippy', 'cups', 'parts', 'dr', 'medela', 'avent', 'clean', 'breast', 'use', 'cup', 'milk', 'nipples', 'nipple', 'pump', 'bottle', 'bottles']\n",
      "\n",
      "Words for Topic 6\n",
      "['really', 'easy', 'need', 'like', 'wash', 'pocket', 'pockets', 'don', 'cover', 'wet', 'small', 'pail', 'just', 'size', 'fit', 'stroller', 'pad', 'wipes', 'bags', 'use', 'changing', 'cloth', 'diapers', 'diaper', 'bag']\n",
      "\n",
      "Words for Topic 7\n",
      "['sturdy', 'strings', 'colors', 'little', 'use', 'clean', 'shipping', 'value', 'fits', 'worked', 'guitar', 'size', 'purchase', 'highly', 'item', 'looks', 'work', 'buy', 'recommend', 'quality', 'easy', 'price', 'works', 'product', 'great']\n",
      "\n",
      "Words for Topic 8\n",
      "['blanket', 'wash', 'adorable', 'brand', 'bibs', 'highly', 'blankets', 'cnd', 'use', 'stuff', 'amazing', 'kids', 'recommend', 'buy', 'clean', 'super', 'product', 'cute', 'perfect', 'absolutely', 'products', 'colors', 'soft', 'easy', 'love']\n",
      "\n"
     ]
    }
   ],
   "source": [
    "#Get topics and words (top 15)\n",
    "for tpno, topic in enumerate(model.components_):\n",
    "    print(\"Words for Topic\", tpno+1)\n",
    "    print([tdf_all_words[index] for index in topic.argsort()[-25:]])\n",
    "    print()"
   ]
  },
  {
   "cell_type": "code",
   "execution_count": 56,
   "metadata": {},
   "outputs": [],
   "source": [
    "#Find which topic review belongs to\n",
    "nmf_topic_prediction = model.transform(tdf_X)"
   ]
  },
  {
   "cell_type": "code",
   "execution_count": 57,
   "metadata": {},
   "outputs": [],
   "source": [
    "#Add topic number to review dataset\n",
    "amreviews_mod['nmf_topic'] = nmf_topic_prediction.argmax(axis=1) + 1"
   ]
  },
  {
   "cell_type": "code",
   "execution_count": 58,
   "metadata": {},
   "outputs": [
    {
     "data": {
      "text/html": [
       "<div>\n",
       "<style scoped>\n",
       "    .dataframe tbody tr th:only-of-type {\n",
       "        vertical-align: middle;\n",
       "    }\n",
       "\n",
       "    .dataframe tbody tr th {\n",
       "        vertical-align: top;\n",
       "    }\n",
       "\n",
       "    .dataframe thead th {\n",
       "        text-align: right;\n",
       "    }\n",
       "</style>\n",
       "<table border=\"1\" class=\"dataframe\">\n",
       "  <thead>\n",
       "    <tr style=\"text-align: right;\">\n",
       "      <th></th>\n",
       "      <th>date</th>\n",
       "      <th>summary</th>\n",
       "      <th>review</th>\n",
       "      <th>rating</th>\n",
       "      <th>topic</th>\n",
       "      <th>nmf_topic</th>\n",
       "    </tr>\n",
       "  </thead>\n",
       "  <tbody>\n",
       "    <tr>\n",
       "      <td>192467</td>\n",
       "      <td>2016-11-07</td>\n",
       "      <td>Smells great!</td>\n",
       "      <td>This shampoo smells sooooooo good.  Seriously,...</td>\n",
       "      <td>5</td>\n",
       "      <td>7</td>\n",
       "      <td>4</td>\n",
       "    </tr>\n",
       "    <tr>\n",
       "      <td>154097</td>\n",
       "      <td>2013-07-08</td>\n",
       "      <td>An acceptable upgrade, still some issues</td>\n",
       "      <td>I should start by saying this was purchased to...</td>\n",
       "      <td>4</td>\n",
       "      <td>6</td>\n",
       "      <td>1</td>\n",
       "    </tr>\n",
       "    <tr>\n",
       "      <td>41639</td>\n",
       "      <td>2013-11-29</td>\n",
       "      <td>our little one wouldnt sit in this seat for mo...</td>\n",
       "      <td>Our little one didnt like this chair.  We had ...</td>\n",
       "      <td>2</td>\n",
       "      <td>4</td>\n",
       "      <td>2</td>\n",
       "    </tr>\n",
       "    <tr>\n",
       "      <td>4288</td>\n",
       "      <td>2014-02-14</td>\n",
       "      <td>Worked well</td>\n",
       "      <td>These worked well and were easy to use but we ...</td>\n",
       "      <td>4</td>\n",
       "      <td>8</td>\n",
       "      <td>4</td>\n",
       "    </tr>\n",
       "    <tr>\n",
       "      <td>43257</td>\n",
       "      <td>2011-06-04</td>\n",
       "      <td>Another terrific Skip Hop product</td>\n",
       "      <td>I love this bag to pieces - I bought the 'Pop ...</td>\n",
       "      <td>5</td>\n",
       "      <td>4</td>\n",
       "      <td>8</td>\n",
       "    </tr>\n",
       "    <tr>\n",
       "      <td>22019</td>\n",
       "      <td>2011-07-06</td>\n",
       "      <td>A wonderful product!</td>\n",
       "      <td>This bib has a soft pleasant feel, but seems t...</td>\n",
       "      <td>5</td>\n",
       "      <td>3</td>\n",
       "      <td>6</td>\n",
       "    </tr>\n",
       "    <tr>\n",
       "      <td>157605</td>\n",
       "      <td>2013-10-02</td>\n",
       "      <td>Keep This With You!</td>\n",
       "      <td>These waterproof liners are great to keep with...</td>\n",
       "      <td>4</td>\n",
       "      <td>3</td>\n",
       "      <td>6</td>\n",
       "    </tr>\n",
       "    <tr>\n",
       "      <td>40100</td>\n",
       "      <td>2014-05-01</td>\n",
       "      <td>SUPER THICK</td>\n",
       "      <td>These are much thicker than other ones I have ...</td>\n",
       "      <td>5</td>\n",
       "      <td>3</td>\n",
       "      <td>6</td>\n",
       "    </tr>\n",
       "    <tr>\n",
       "      <td>88823</td>\n",
       "      <td>2012-12-26</td>\n",
       "      <td>Great low profile cover</td>\n",
       "      <td>First off a lot of reviewers here are complain...</td>\n",
       "      <td>5</td>\n",
       "      <td>8</td>\n",
       "      <td>2</td>\n",
       "    </tr>\n",
       "    <tr>\n",
       "      <td>74468</td>\n",
       "      <td>2014-04-08</td>\n",
       "      <td>Great washclothes</td>\n",
       "      <td>A must for baby.  Great colors.  Quality is go...</td>\n",
       "      <td>4</td>\n",
       "      <td>5</td>\n",
       "      <td>7</td>\n",
       "    </tr>\n",
       "  </tbody>\n",
       "</table>\n",
       "</div>"
      ],
      "text/plain": [
       "              date                                            summary  \\\n",
       "192467  2016-11-07                                      Smells great!   \n",
       "154097  2013-07-08           An acceptable upgrade, still some issues   \n",
       "41639   2013-11-29  our little one wouldnt sit in this seat for mo...   \n",
       "4288    2014-02-14                                        Worked well   \n",
       "43257   2011-06-04                  Another terrific Skip Hop product   \n",
       "22019   2011-07-06                               A wonderful product!   \n",
       "157605  2013-10-02                                Keep This With You!   \n",
       "40100   2014-05-01                                        SUPER THICK   \n",
       "88823   2012-12-26                            Great low profile cover   \n",
       "74468   2014-04-08                                  Great washclothes   \n",
       "\n",
       "                                                   review  rating  topic  \\\n",
       "192467  This shampoo smells sooooooo good.  Seriously,...       5      7   \n",
       "154097  I should start by saying this was purchased to...       4      6   \n",
       "41639   Our little one didnt like this chair.  We had ...       2      4   \n",
       "4288    These worked well and were easy to use but we ...       4      8   \n",
       "43257   I love this bag to pieces - I bought the 'Pop ...       5      4   \n",
       "22019   This bib has a soft pleasant feel, but seems t...       5      3   \n",
       "157605  These waterproof liners are great to keep with...       4      3   \n",
       "40100   These are much thicker than other ones I have ...       5      3   \n",
       "88823   First off a lot of reviewers here are complain...       5      8   \n",
       "74468   A must for baby.  Great colors.  Quality is go...       4      5   \n",
       "\n",
       "        nmf_topic  \n",
       "192467          4  \n",
       "154097          1  \n",
       "41639           2  \n",
       "4288            4  \n",
       "43257           8  \n",
       "22019           6  \n",
       "157605          6  \n",
       "40100           6  \n",
       "88823           2  \n",
       "74468           7  "
      ]
     },
     "execution_count": 58,
     "metadata": {},
     "output_type": "execute_result"
    }
   ],
   "source": [
    "amreviews_mod.sample(10)"
   ]
  },
  {
   "cell_type": "markdown",
   "metadata": {},
   "source": [
    "## LDA or NMF"
   ]
  },
  {
   "cell_type": "markdown",
   "metadata": {},
   "source": [
    "Just on the basis of comparing the words selected within a topic, I feel that NMF along with TF-IDF does a better job of finding topics. However in order to make the results more fair let's run LDA with TF-IDF and see the results"
   ]
  },
  {
   "cell_type": "code",
   "execution_count": 59,
   "metadata": {},
   "outputs": [
    {
     "data": {
      "text/plain": [
       "LatentDirichletAllocation(batch_size=128, doc_topic_prior=None,\n",
       "                          evaluate_every=-1, learning_decay=0.7,\n",
       "                          learning_method='batch', learning_offset=10.0,\n",
       "                          max_doc_update_iter=100, max_iter=10,\n",
       "                          mean_change_tol=0.001, n_components=8, n_jobs=None,\n",
       "                          perp_tol=0.1, random_state=4321,\n",
       "                          topic_word_prior=None, total_samples=1000000.0,\n",
       "                          verbose=0)"
      ]
     },
     "execution_count": 59,
     "metadata": {},
     "output_type": "execute_result"
    }
   ],
   "source": [
    " LDA.fit(tdf_X)"
   ]
  },
  {
   "cell_type": "code",
   "execution_count": 60,
   "metadata": {},
   "outputs": [
    {
     "name": "stdout",
     "output_type": "stream",
     "text": [
      "Words for Topic 1\n",
      "['cnd', 'blue', 'really', 'summer', 'quality', 'shade', 'like', 'coat', 'perfect', 'coats', 'looks', 'pretty', 'nice', 'colors', 'essie', 'pink', 'beautiful', 'good', 'nails', 'product', 'nail', 'great', 'polish', 'love', 'color']\n",
      "\n",
      "Words for Topic 2\n",
      "['need', 'bought', 'nice', 'quality', 'pedal', 'work', 'don', 'does', 'really', 'little', 'sound', 'door', 'price', 'open', 'like', 'just', 'good', 'use', 'works', 'strings', 'easy', 'great', 'gate', 'guitar', 'stroller']\n",
      "\n",
      "Words for Topic 3\n",
      "['bought', 'hold', 'clean', 'cute', 'month', 'chair', 'really', 'months', 'daughter', 'use', 'diaper', 'just', 'like', 'son', 'toys', 'love', 'food', 'little', 'easy', 'old', 'great', 'loves', 'toy', 'bag', 'baby']\n",
      "\n",
      "Words for Topic 4\n",
      "['product', 'easy', 'pacifier', 'got', 'used', 'bought', 'loves', 'comfortable', 'really', 'daughter', 'time', 'head', 'love', 'seat', 'great', 'little', 'old', 'months', 'like', 'just', 'son', 'use', 'carrier', 'pillow', 'baby']\n",
      "\n",
      "Words for Topic 5\n",
      "['clean', 'easy', 'little', 'size', 'cups', 'really', 'milk', 'leak', 'soft', 'nipples', 'wash', 'don', 'cloth', 'nipple', 'diapers', 'love', 'cup', 'like', 'diaper', 'just', 'great', 'use', 'baby', 'bottle', 'bottles']\n",
      "\n",
      "Words for Topic 6\n",
      "['mobile', 'bought', 'really', 'son', 'little', 'sheets', 'bed', 'sleep', 'room', 'night', 'like', 'love', 'swing', 'just', 'play', 'soft', 'sheet', 'music', 'changing', 'pad', 'great', 'monitor', 'mattress', 'baby', 'crib']\n",
      "\n",
      "Words for Topic 7\n",
      "['just', 'sensitive', 'love', 'nice', 'brush', 'feel', 'used', 'makeup', 'great', 'dry', 'soap', 'does', 'really', 'smell', 'using', 'good', 'products', 'use', 'cream', 'scent', 'like', 'face', 'hair', 'product', 'skin']\n",
      "\n",
      "Words for Topic 8\n",
      "['fits', 'bought', 'work', 'time', 'medela', 'really', 'toilet', 'son', 'love', 'little', 'pumping', 'fit', 'seats', 'like', 'bath', 'baby', 'just', 'use', 'great', 'easy', 'potty', 'tub', 'pump', 'car', 'seat']\n",
      "\n"
     ]
    }
   ],
   "source": [
    "#Get topics and words (top 15)\n",
    "for tpno, topic in enumerate(LDA.components_):\n",
    "    print(\"Words for Topic\", tpno+1)\n",
    "    print([tdf_all_words[index] for index in topic.argsort()[-25:]])\n",
    "    print()"
   ]
  },
  {
   "cell_type": "markdown",
   "metadata": {},
   "source": [
    "Based on above results, TF-IDF works better than count vectorizer. While NMF and LDA identify the same set of topics, NMF performs faster and hence my preferred method of choice would still be NMF with TFIDF"
   ]
  }
 ],
 "metadata": {
  "kernelspec": {
   "display_name": "Python 3",
   "language": "python",
   "name": "python3"
  },
  "language_info": {
   "codemirror_mode": {
    "name": "ipython",
    "version": 3
   },
   "file_extension": ".py",
   "mimetype": "text/x-python",
   "name": "python",
   "nbconvert_exporter": "python",
   "pygments_lexer": "ipython3",
   "version": "3.7.4"
  }
 },
 "nbformat": 4,
 "nbformat_minor": 2
}
